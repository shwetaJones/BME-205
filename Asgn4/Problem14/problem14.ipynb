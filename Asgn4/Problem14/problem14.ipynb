{
 "cells": [
  {
   "cell_type": "code",
   "execution_count": 7,
   "metadata": {},
   "outputs": [
    {
     "name": "stdout",
     "output_type": "stream",
     "text": [
      "TGCTGCAGCATCGGCCATATTAGCAATCAATAGTCGACGGGTGAATCTGCTTCTGGGACTGACCACTATAATCAGTGTTTAGGGAACCAGAAGACGACGCTCCAGCACACAGTCATGAACGTTATCTGGATCACCACATAGTTTTATCGCCTCTTCATCATCCGATAGAGACTCTAATAGCCTTCAGACTGACCGAGCTGGTCGCGATTGAGAGTACGCCTATAAGGTCCATCGAGGCACATACTTTTATTCGCTAAGGATGGCATTCGCTGCAATCATGAGACCCGGATGAGAGACGCAACCTATGGGCCTTATAGGATGTGGATCTCTGGGCTAGGATTTTATAATCGGCCGCGACAGTTTCTTTGGACTCGAAGCCCCAGCATCAACATTGGCCTTAACAGTCGCTCGTGCCGGTTTGATCTGTGCATCGAGTCGTAGTGTTTGCCCCCTAAAAGCGGTTTGTTGCTGTAAGACCAGTAAATTGCTCCTGCACCGTTTGCACTAAACTTTCACCTTTCGATGGGCTCAGTAGGTCGTTTTCTGTAATTTGTTCGCTGGCATTTACTCCGGGTCCCTTCTTTTCAAGAGGCTCCAGACCTAAGCTATTCATAAGATGCGTGTCTATTGTCGGTTAAACCGGAGGATCAGCGGCCAGTGTCTCAGTGCAGGATTGATCTAGCGGCTTGAATATCTCAGGCCGCCTAAAGGCTACGGTATTAAGGCGTATTCGATAGTACTGAAAGAGTGGACAAGCCGTCCGCTAACACACTATCTGACCCGAGAAGGAGCGGAACAACCTCGAAAGAGGCCCTCCTCGGCTAGTTAAAAAAAGTGCGGCCTGTCACCGCTGCTGACTGGGCCCTCACCGAACTTTACCCCGGCATATGTGCTTGCACGGGGTGCAAGCACTCAGGATTATTCCGTAAAGAACGCAGCATGGCGGAAATGGTTCGCCGTCCTGTACACCATAATAAGATTCAATAGAATATATCTCGACTAATCGTTGAAGGCCTCATACGCGCAGGTCTCGTCATGTACTAGGGATCAGCCACAGTCTGCGCCTCTAGTGTCATTACTGTACCGGCATCCTAGCAACTGCCTGCTCCTTTGTCGTACAGGACAAACGACACAATGCAACGAATCTGGCTATATCTGGGCAGATTGGCGTGCCGCCCTCGTGTTCGCGGGCTACAGAGCTATAGTGAATGGGAGAAACATTCTAGTCCCGTAGCCTGTCTCATTCGCTTATGGCTCACGAGTGCTGAGCTACAATTACTCCTTTAGGTCGTGGTGACCATACACCATCCAAGGATGACCACACGGACGAAGGGCTGTTGAGACGCATGTAATCCAGCCCAAATACGGCGGAGAGTGCCCCGACCACCCGTACGGTTTCCCTACTAGTAAATAGCGCTACGGCTAGAGAAACAATACAAAACATCTCACGCTACTTATATCCCTTCTCTTAGGCCGAGGCTGTATTAGTGAACGGCTCGTATAGACATCGTCAGGGCAGACAAGTTACCCAGTCTTAGACCCAAAACATTCCAGCGCCTTGCCGGCTACCTCTTTGCGACACAATCCATCCTGCGGTTTAGAATTCTGACTACCTAGGACGCTACGCCCCAGGCCGGTGAAACCCCATATCCAGACTGCCCAAGAGCCGCCTGGTACCGGGATAAAATCGGATCGTCATCGTGGACGTTAGGTACATGGAAGCTGTCAGGGAACTCCACGCTAGGTAATCTACTGTCAGACAACCATAAGAACCCACACGATGAGCGGATGGGCTATGAGACCTGCGTTACATCCAAGAACCTCAGGCCCAAGGTTCTATACTCAATTTTATGGCCTACTGGCCACTTACGTCACCTGAGGGGAAATTTCAATGCTTGTGTAAAAACCCATAAATGTCTCCTCTAAGCTTCATTGGAAGAAAACTTTAGGACTCCCGGACTCGATGCTAACTGGGACCCCGTACCCGTCAACCCAAGGGGACTCCGCTACGTGCCAGGATAAGAGTGCAAGTAAGACGGTGTGGTGGCGTCATTAGATCTCCAGCTGATGGAGATGGCCAGCGACGACAGGACGGGCTGCCGATCCTGTCGCTGCAGGTGAGGTTCTCAGCCATGTGGAAGACGACATTCGTGTACGCCCTCCCTCTCGTCTCGACAATCACTCGATTATATAACATTTTGCTTTACTCAGCGTATAGCTCTTGATGAAACGCCGAGGTA\n"
     ]
    }
   ],
   "source": [
    "import sys\n",
    "import random\n",
    "\n",
    "\n",
    "\n",
    "class Graph:\n",
    "    def __init__(self, patterns):\n",
    "\n",
    "        self.patterns = patterns\n",
    "        self.edges = []\n",
    "        self.nodes = dict()\n",
    "        self.stringPath = []\n",
    "        self.sequence = ''\n",
    "\n",
    "    def findEdges(self):\n",
    "        for pattern in self.patterns:\n",
    "            for otherPattern in self.patterns:\n",
    "                if pattern[1:] == otherPattern[:-1]:\n",
    "                    self.edges.append((pattern, otherPattern))\n",
    "\n",
    "    def findNodes(self):\n",
    "        self.findEdges()  \n",
    "        for edge in self.edges:\n",
    "            node1 = edge[0]\n",
    "            node2 = edge[1]\n",
    "            if node1 not in self.nodes.keys():\n",
    "                self.nodes[node1] = ([], [])\n",
    "            self.nodes[node1][1].append(node2)  \n",
    "            if node2 not in self.nodes.keys():\n",
    "                self.nodes[node2] = ([], [])\n",
    "            self.nodes[node2][0].append(node1)\n",
    "\n",
    "    def getStart(self):\n",
    "        self.findNodes()\n",
    "        startNode = random.choices(list(self.nodes.keys()))[0]\n",
    "        for node in self.nodes.keys():\n",
    "            if len(self.nodes[node][1]) - len(self.nodes[node][0]) == 1: \n",
    "                startNode = node\n",
    "        return startNode\n",
    "\n",
    "    def findPath(self, v):\n",
    "        vEdges = self.nodes[v][1]\n",
    "        while len(vEdges) > 0:\n",
    "            newV = random.choices(vEdges)[0]\n",
    "            self.nodes[v][1].remove(newV)\n",
    "            self.findPath(newV)\n",
    "        self.stringPath.insert(0, v)\n",
    "\n",
    "    def printString(self):\n",
    "        self.findPath(self.getStart())\n",
    "        for i in range(0, len(self.stringPath)):\n",
    "            if i == 0:\n",
    "                self.sequence += self.stringPath[i]\n",
    "            else:\n",
    "                self.sequence += self.stringPath[i][-1]\n",
    "        print(self.sequence)\n",
    "\n",
    "\n",
    "def main():\n",
    "    patterns = []\n",
    "    lineCount = 0\n",
    "    readFile = open(r\"rosalind_ba3h.txt\")\n",
    "    # Read the input file\n",
    "    for line in readFile:\n",
    "        if lineCount > 0:\n",
    "            patterns.append(line.strip())\n",
    "        lineCount += 1\n",
    "\n",
    "    myGraph = Graph(patterns)\n",
    "    myGraph.printString()\n",
    "\n",
    "\n",
    "if __name__ == \"__main__\":\n",
    "    main()"
   ]
  },
  {
   "cell_type": "code",
   "execution_count": null,
   "metadata": {},
   "outputs": [],
   "source": []
  }
 ],
 "metadata": {
  "kernelspec": {
   "display_name": "Python 3",
   "language": "python",
   "name": "python3"
  },
  "language_info": {
   "codemirror_mode": {
    "name": "ipython",
    "version": 3
   },
   "file_extension": ".py",
   "mimetype": "text/x-python",
   "name": "python",
   "nbconvert_exporter": "python",
   "pygments_lexer": "ipython3",
   "version": "3.7.6"
  }
 },
 "nbformat": 4,
 "nbformat_minor": 5
}
