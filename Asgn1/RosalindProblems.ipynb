{
 "cells": [
  {
   "cell_type": "markdown",
   "metadata": {},
   "source": [
    "Problem 1: Getting Python"
   ]
  },
  {
   "cell_type": "markdown",
   "metadata": {},
   "source": [
    "Problem 2: Getting Python"
   ]
  },
  {
   "cell_type": "markdown",
   "metadata": {},
   "source": [
    "Main:\n",
    "    The input is 2 different lengths of a triangle. \n",
    "    The output is the resulting hypotenuse length to the power of 2. "
   ]
  },
  {
   "cell_type": "code",
   "execution_count": null,
   "metadata": {},
   "outputs": [],
   "source": [
    "def main ():\n",
    "    \"\"\" uses the lengths of the triangle to determine the hypotenuse \"\"\"\n",
    "    with open(sys.argv[1], \"r\") as file:\n",
    "        values = file.read()\n",
    "    val = Problemtwo (values)\n",
    "    print (val.hypotenuse())\n",
    "\n",
    "if __name__== \"__main__\":\n",
    "    main()"
   ]
  },
  {
   "cell_type": "markdown",
   "metadata": {},
   "source": [
    "Class Problemtwo:\n",
    "    This class takes in 2 values from the main\n",
    "    The length of the hypotenuse is returned"
   ]
  },
  {
   "cell_type": "code",
   "execution_count": null,
   "metadata": {},
   "outputs": [],
   "source": [
    "import sys\n",
    "class Problemtwo():\n",
    "    def __init__ (self, values):\n",
    "    \"\"\" initializes the lengths of the triangle \"\"\"\n",
    "        self.val1 = int(values.split()[0])\n",
    "        self.val2 = int(values.split()[1])\n",
    "\n",
    "    def hypotenuse (self):\n",
    "    \"\"\" returns the length of the hypotenuse with 2 length values \"\"\"\n",
    "        return ((self.val1**2) + (self.val2**2))"
   ]
  },
  {
   "cell_type": "raw",
   "metadata": {},
   "source": [
    "Problem 3: Strings and Lists"
   ]
  },
  {
   "cell_type": "markdown",
   "metadata": {},
   "source": [
    "Main:\n",
    "    The input is a text file with a sentence and 4 numbers\n",
    "    The output is the text within the given values "
   ]
  },
  {
   "cell_type": "code",
   "execution_count": null,
   "metadata": {},
   "outputs": [],
   "source": [
    "def main ():\n",
    "    with open(sys.argv[1], \"r\") as file:\n",
    "        line = file.read()\n",
    "        nums = file.read()\n",
    "    val = Problemthree (line)\n",
    "    print (val.firstReturn(), val.secondReturn())\n",
    "\n",
    "if __name__== \"__main__\":\n",
    "    main()"
   ]
  },
  {
   "cell_type": "markdown",
   "metadata": {},
   "source": [
    "Class Problemthree:\n",
    "    The class initializes the range values, and outputs the text in the given ranges. "
   ]
  },
  {
   "cell_type": "code",
   "execution_count": null,
   "metadata": {},
   "outputs": [],
   "source": [
    "class Problemthree():\n",
    "    def __init__ (self, line):\n",
    "    \"\"\" initializes the range values \"\"\"\n",
    "        self.num1 = int(line[1])\n",
    "        self.num2 = int(line[2])\n",
    "        self.num3 = int(line[3])\n",
    "        self.num4 = int(line[4])\n",
    "        self.line = line\n",
    "\n",
    "    def firstReturn (self):\n",
    "    \"\"\" returns the text between the first two values \"\"\"\n",
    "        return (self.line[self.num1:(self.num2 + 1)])\n",
    "\n",
    "    def secondReturn (self):\n",
    "    \"\"\" returns the text between the third and fourth values \"\"\"\n",
    "        return (self.line[self.num3:(self.num4 + 1)])"
   ]
  },
  {
   "cell_type": "markdown",
   "metadata": {},
   "source": [
    "Problem 4: Counting DNA Nucleotides"
   ]
  },
  {
   "cell_type": "markdown",
   "metadata": {},
   "source": [
    "Main:\n",
    "    The input is a text file containing a DNA sequence\n",
    "    The output is the number of A, T, C, G nucleotides"
   ]
  },
  {
   "cell_type": "code",
   "execution_count": null,
   "metadata": {},
   "outputs": [],
   "source": [
    "def main ():\n",
    "    \"\"\" recieves a DNA sequence, and prints the number of nucleotides \"\"\"\n",
    "    with open(sys.argv[1], \"r\") as file:\n",
    "        dna = file.read()\n",
    "    wholedna = Problemfour (dna)\n",
    "    print (wholedna.acount(), wholedna.ccount(), wholedna.gcount(), wholedna.tcount())\n",
    "\n",
    "if __name__== \"__main__\":\n",
    "    main()"
   ]
  },
  {
   "cell_type": "markdown",
   "metadata": {},
   "source": [
    "Class Problemfour:\n",
    "    This class takes in a DNA sequence and saves is as a self \n",
    "    The output is the number of specific nucleotides"
   ]
  },
  {
   "cell_type": "code",
   "execution_count": null,
   "metadata": {},
   "outputs": [],
   "source": [
    "import sys\n",
    "class Problemfour():\n",
    "    def __init__ (self, dna):\n",
    "    \"\"\" initializes the DNA sequence \"\"\"\n",
    "        self.dna = dna\n",
    "\n",
    "    def acount (self):\n",
    "    \"\"\" returns the number of adenine within the DNA sequence \"\"\"\n",
    "        return (self.dna.count('A'))\n",
    "\n",
    "    def ccount (self):\n",
    "    \"\"\" returns the number of cytosine within the DNA sequence \"\"\"\n",
    "        return (self.dna.count('C'))\n",
    "\n",
    "    def gcount (self):\n",
    "    \"\"\" returns the number of guanine within the DNA sequence \"\"\"\n",
    "        return (self.dna.count('G'))\n",
    "\n",
    "    def tcount (self):\n",
    "    \"\"\" returns the number of thymine within the DNA sequence \"\"\"\n",
    "        return (self.dna.count('T'))"
   ]
  },
  {
   "cell_type": "markdown",
   "metadata": {},
   "source": [
    "Problem 5: Conditions and Loops"
   ]
  },
  {
   "cell_type": "markdown",
   "metadata": {},
   "source": [
    "Main:\n",
    "    The function recieves a text file with 2 values \n",
    "    The output is the total of all the odd numbers between the two given values"
   ]
  },
  {
   "cell_type": "code",
   "execution_count": null,
   "metadata": {},
   "outputs": [],
   "source": [
    "def main ():\n",
    "    \"\"\" recieved a text file, processes in the class, and prints the value \"\"\"\n",
    "    with open(sys.argv[1], \"r\") as file:\n",
    "        line = file.read()\n",
    "    processedLine = Problemfive(line)\n",
    "    print (processedLine.total())\n",
    "\n",
    "if __name__== \"__main__\":\n",
    "    main()"
   ]
  },
  {
   "cell_type": "markdown",
   "metadata": {},
   "source": [
    "Class Problemfive:\n",
    "    The class taken in the text line, sperepates to get 2 values, and uses these values to determine the total number of odd numbers between the given ranges. "
   ]
  },
  {
   "cell_type": "code",
   "execution_count": null,
   "metadata": {},
   "outputs": [],
   "source": [
    "import sys\n",
    "class Problemfive():\n",
    "    \"\"\" The class gives a summation of all the odd numbers within a certain range \"\"\"\n",
    "    \"\"\" Initializes the values under self\"\"\"\n",
    "    def __init__ (self, line):\n",
    "        self.line = line\n",
    "        self.val1 = int(line.split()[0])\n",
    "        self.val2 = int(line.split()[1])\n",
    "    \"\"\" determines the sum of all the odd numbers \"\"\"\n",
    "    def total (self):\n",
    "        total = 0\n",
    "        for i in range(self.val1, self.val2):\n",
    "            if i % 2 == 1:\n",
    "                total += i\n",
    "        return total"
   ]
  },
  {
   "cell_type": "raw",
   "metadata": {},
   "source": [
    "Problem 6: Working with Files"
   ]
  },
  {
   "cell_type": "markdown",
   "metadata": {},
   "source": [
    "Main:\n",
    "    The input is a block of text \n",
    "    The output is every other line within the given block of text "
   ]
  },
  {
   "cell_type": "code",
   "execution_count": null,
   "metadata": {},
   "outputs": [],
   "source": [
    "def main ():\n",
    "    \"\"\" receives a text file, processes the information, and prints every other line \"\"\"\n",
    "    readLine = open(sys.argv[1], \"r\")\n",
    "    file = Problemsix(readLine)\n",
    "    file.printLine()\n",
    "\n",
    "if __name__== \"__main__\":\n",
    "    main()"
   ]
  },
  {
   "cell_type": "markdown",
   "metadata": {},
   "source": [
    "Class Problemsix:\n",
    "    The class takes in the block of text. \n",
    "    The class print every other line within the text. "
   ]
  },
  {
   "cell_type": "code",
   "execution_count": null,
   "metadata": {},
   "outputs": [],
   "source": [
    "import sys\n",
    "class Problemsix():\n",
    "    \"\"\" initializes the text \"\"\"\n",
    "    def __init__ (self, readLine):\n",
    "        self.readLine = readLine\n",
    "\n",
    "    def printLine (self):\n",
    "    \"\"\" prints every other line within the text \"\"\"\n",
    "        count = 0\n",
    "        for line in self.readLine:\n",
    "            count += 1\n",
    "            if count%2 == 0:\n",
    "                print(line)"
   ]
  },
  {
   "cell_type": "markdown",
   "metadata": {},
   "source": [
    "Problem 7: Dictionaries"
   ]
  },
  {
   "cell_type": "markdown",
   "metadata": {},
   "source": [
    "Main:\n",
    "    The input file is a stream of words. \n",
    "    The output file is a dictionary of sorts that reveals the occurence of each word in the sentence. "
   ]
  },
  {
   "cell_type": "code",
   "execution_count": null,
   "metadata": {},
   "outputs": [],
   "source": [
    "def main ():\n",
    "    \"\"\" the main takes in text and outputs the occurence of every word within the text \"\"\"\n",
    "    readLine = open(sys.argv[1], \"r\")\n",
    "    line = readLine.read()\n",
    "    words = line.split()\n",
    "    values = Problemseven(words)\n",
    "    values.printCounts()\n",
    "\n",
    "if __name__== \"__main__\":\n",
    "    main()"
   ]
  },
  {
   "cell_type": "markdown",
   "metadata": {},
   "source": [
    "Class Problemseven:\n",
    "    The sentence/stream of words is saved into self \n",
    "    The class creates a dictionary to keep track of the number of occurences of each word. "
   ]
  },
  {
   "cell_type": "code",
   "execution_count": null,
   "metadata": {},
   "outputs": [],
   "source": [
    "import sys\n",
    "class Problemseven():\n",
    "    \"\"\" initializes the words within the text file \"\"\"\n",
    "    def __init__ (self, words):\n",
    "        self.words = words\n",
    "    \n",
    "    \"\"\" a dictionary is used to keep track of the occurences, and prints the word along with its corresponding count \"\"\"\n",
    "    def printCounts (self):\n",
    "        counts = dict()\n",
    "        for word in self.words:\n",
    "            if word in counts:\n",
    "                counts[word] += 1\n",
    "            else:\n",
    "                counts[word] = 1\n",
    "        for count in counts:\n",
    "            print (count, counts[count])"
   ]
  }
 ],
 "metadata": {
  "kernelspec": {
   "display_name": "Python 3",
   "language": "python",
   "name": "python3"
  },
  "language_info": {
   "codemirror_mode": {
    "name": "ipython",
    "version": 3
   },
   "file_extension": ".py",
   "mimetype": "text/x-python",
   "name": "python",
   "nbconvert_exporter": "python",
   "pygments_lexer": "ipython3",
   "version": "3.7.6"
  }
 },
 "nbformat": 4,
 "nbformat_minor": 4
}
