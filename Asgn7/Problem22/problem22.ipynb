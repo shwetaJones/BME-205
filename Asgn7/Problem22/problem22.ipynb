{
 "cells": [
  {
   "cell_type": "markdown",
   "metadata": {},
   "source": [
    "# File Name: problem22.ipynb\n",
    "#### Description: \n",
    "The program uses a string x, followed by the alphabet Σ from which x was constructed, followed by the states States, transition matrix Transition, and emission matrix Emission of an HMM (Σ, States, Transition, Emission). It returns the probability Pr(x) that the HMM emits x.\n",
    "#### Sample CommandLine Entry: \n",
    "python Jones_Shweta_problem22.py\n",
    "python Jones_Shweta_problem22.ipynb\n",
    "##### stdin: \n",
    "a string x, followed by the alphabet Σ from which x was constructed, followed by a hidden path π, followed by the states States and emission matrix Emission of an HMM (Σ, States, Transition, Emission)\n",
    "###### stdout: \n",
    "returns the probability Pr(x) that the HMM emits x\n",
    "#### Author: \n",
    "Shweta Jones\n",
    "#### Group: \n",
    "Sahasra Shankar, Kritin Nandish, Maheep Luthra"
   ]
  },
  {
   "cell_type": "code",
   "execution_count": 1,
   "metadata": {},
   "outputs": [
    {
     "name": "stdout",
     "output_type": "stream",
     "text": [
      "3.2073509015688873e-48\n"
     ]
    }
   ],
   "source": [
    "import numpy as np\n",
    "class problemTwentyTwo():\n",
    "    def __init__(self, emString, transitions, emissions, tMatrix, eMatrix):\n",
    "        \"\"\"Description: Initializes variables as self to be accessed by other methods \"\"\"\n",
    "        \"\"\"Input: The input for this are the emission string, transitions, emissions, transition matrix, and emission matrix\"\"\"\n",
    "        \"\"\"Output: There is no output for this method\"\"\"\n",
    "        self.emString = emString\n",
    "        self.transitions = transitions\n",
    "        self.emissions = emissions\n",
    "        self.tMatrix = tMatrix\n",
    "        self.eMatrix = eMatrix\n",
    "    \n",
    "    def determineProbability(self):\n",
    "        \"\"\"Description: This method calculated the probability that the HMM emits x \"\"\"\n",
    "        \"\"\"Input: There is no input for this method, uses self \"\"\"\n",
    "        \"\"\"Output: The output is the probability \"\"\"\n",
    "        indexList = [self.emissions.index(emission) for emission in self.emString] #creates a list of the indexes of all the emissions\n",
    "\n",
    "        tProbs = np.zeros((len(self.transitions),len(indexList))) #initialized the matrix of transition probabilties\n",
    "        for i in range(len(self.transitions)):\n",
    "            tProbs[i][0] = (1/len(self.transitions))*self.eMatrix[i][indexList[0]] #initializes the values for the transition paths\n",
    "\n",
    "        for i in range(1,len(indexList),1):\n",
    "            for j in range(len(self.transitions)):\n",
    "                tProbs[j][i] = sum(self.eMatrix[j][indexList[i]]*tProbs[k][i-1]*self.tMatrix[k][j] for k in range(len(self.transitions))) #determines the probabilties and saves it into the matrix\n",
    "\n",
    "        totalProb = 0\n",
    "        for i in range(len(self.transitions)):\n",
    "            totalProb += tProbs[i][-1] #goes through each probability and adds it together\n",
    "        return totalProb #returns the probability\n",
    "\n",
    "def main(inFile):\n",
    "    \"\"\"Description: The main recieves the input file and prints out the probability \"\"\"\n",
    "    \"\"\"Input: The input file contains a string x, followed by the alphabet Σ from which x was constructed, followed by the states States, transition matrix Transition, and emission matrix Emission of an HMM (Σ, States, Transition, Emission).\"\"\"\n",
    "    \"\"\"Output: The method orints and saves the probability Pr(x) that the HMM emits x \"\"\"\n",
    "    file = open(inFile, \"r\")\n",
    "    lines = file.readlines()\n",
    "    input = [(line.strip()) for line in lines]\n",
    "\n",
    "    emString = input[0].strip()\n",
    "    emissions = input[2].strip().split()\n",
    "    transitions = input[4].strip().split()\n",
    "\n",
    "    tMatrix = np.array([input[7 + i].split()[1:] for i in range(len(transitions))], float) #saves the values into a transition matrix\n",
    "    eMatrix = np.array([input[(7 + len(transitions) + 2) + i].split()[1:] for i in range(len(transitions))], float) #saves the values into the emission matrix\n",
    "\n",
    "    processed = problemTwentyTwo(emString, transitions, emissions, tMatrix, eMatrix)\n",
    "    print(processed.determineProbability())\n",
    "    outfile = open(\"Jones_Shweta_problem22.out.txt\", \"w\")\n",
    "    outfile.write(str(processed.determineProbability()))\n",
    "    outfile.close()\n",
    "\n",
    "if __name__ == '__main__':\n",
    "    main('rosalind_ba10d.txt')"
   ]
  },
  {
   "cell_type": "markdown",
   "metadata": {},
   "source": [
    "# Inspection:\n",
    "\n",
    "#### Inspector 1: \n",
    "- You don't need some of these comments, they seem repetitive\n",
    "- Make sure to write to an output file \n",
    "\n",
    "#### Inspector 2:\n",
    "- Cutdown on some of your comments, they seem unnecessary at times\n",
    "- Your docstrings do explain your code well \n",
    "\n",
    "#### Inspector 3:\n",
    "- You don't have to write the input file if there is not input values in your docstrings\n",
    "- Rename your file so that it matches what the assignment asks for "
   ]
  }
 ],
 "metadata": {
  "kernelspec": {
   "display_name": "Python 3",
   "language": "python",
   "name": "python3"
  },
  "language_info": {
   "codemirror_mode": {
    "name": "ipython",
    "version": 3
   },
   "file_extension": ".py",
   "mimetype": "text/x-python",
   "name": "python",
   "nbconvert_exporter": "python",
   "pygments_lexer": "ipython3",
   "version": "3.7.6"
  }
 },
 "nbformat": 4,
 "nbformat_minor": 4
}
