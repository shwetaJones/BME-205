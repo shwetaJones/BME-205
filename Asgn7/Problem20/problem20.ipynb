{
 "cells": [
  {
   "cell_type": "markdown",
   "metadata": {},
   "source": [
    "# File Name: Jones_Shweta_problem20.ipynb\n",
    "#### Description: \n",
    "The program uses a string x, followed by the alphabet Σ from which x was constructed, followed by a hidden path π, followed by the states States and emission matrix Emission of an HMM (Σ, States, Transition, Emission). It returns the conditional probability Pr(x|π) that string x will be emitted by the HMM given the hidden path π.\n",
    "#### Sample CommandLine Entry: \n",
    "python Jones_Shweta_problem20.py\n",
    "python Jones_Shweta_problem20.ipynb\n",
    "##### stdin: \n",
    "a string x, followed by the alphabet Σ from which x was constructed, followed by a hidden path π, followed by the states States and emission matrix Emission of an HMM (Σ, States, Transition, Emission)\n",
    "###### stdout: \n",
    "returns the conditional probability Pr(x|π) that string x will be emitted by the HMM given the hidden path π\n",
    "#### Author: \n",
    "Shweta Jones\n",
    "#### Group: \n",
    "Sahasra Shankar, Kritin Nandish, Maheep Luthra"
   ]
  },
  {
   "cell_type": "code",
   "execution_count": 4,
   "metadata": {},
   "outputs": [
    {
     "name": "stdout",
     "output_type": "stream",
     "text": [
      "1.5989566535238642e-25\n"
     ]
    }
   ],
   "source": [
    "class problemTwenty():\n",
    "    def __init__(self, seq1, seq2, values, transitions, emissions):\n",
    "        \"\"\"Description: Initializes variables as self to be accessed by other methods \"\"\"\n",
    "        \"\"\"Input: The input is the 2 sequences and matrix in the input file \"\"\"\n",
    "        \"\"\"Output: There is no output \"\"\"\n",
    "        self.seq1 = seq1\n",
    "        self.seq2 = seq2\n",
    "        self.values = values\n",
    "        self.counts = {}\n",
    "        for i in transitions:\n",
    "            for j in emissions:\n",
    "                self.counts[j + i] = 0 #initializes every combination to 0\n",
    "\n",
    "    def determineCounts(self):\n",
    "        \"\"\"Description: This method finds all the combinations \"\"\"\n",
    "        \"\"\"Input: There is no input for this method, uses self \"\"\"\n",
    "        \"\"\"Output: The counts is updated \"\"\"\n",
    "        for i in range(len(self.seq1)):\n",
    "            slice = self.seq1[i] + self.seq2[i] #combines into one string\n",
    "            for key in self.counts.keys(): #checks to see if it is in the dictionary\n",
    "                if slice == key:\n",
    "                    self.counts[key] += 1 #adds to the count dictionary\n",
    "\n",
    "    def calcProbability(self):\n",
    "        \"\"\"Description: Determines the conditional probability \"\"\"\n",
    "        \"\"\"Input: There is no input for this method, uses self \"\"\"\n",
    "        \"\"\"Output: The output is the conditional probability Pr(x|π) that string x will be emitted by the HMM given the hidden path π. \"\"\"\n",
    "        total = 1\n",
    "        for key in self.counts: #iterates through the count dictionary\n",
    "            total *= (self.values[key] ** self.counts[key]) #calculates the conditional probability\n",
    "        return total\n",
    "\n",
    "def main(inFile):\n",
    "    \"\"\"Description: The main reads in the input file and prints out the conditional probability Pr(x|π) that string x will be emitted by the HMM given the hidden path π.\"\"\"\n",
    "    \"\"\"Input: The input file contains string x, followed by the alphabet Σ from which x was constructed, followed by a hidden path π, followed by the states States and emission matrix Emission of an HMM (Σ, States, Transition, Emission)\"\"\"\n",
    "    \"\"\"Output: It returns the conditional probability Pr(x|π) that string x will be emitted by the HMM given the hidden path π\"\"\"\n",
    "    file = open(inFile, \"r\")\n",
    "    lines = file.readlines()\n",
    "    input = [(line.strip()) for line in lines]\n",
    "    seq1 = input[0]\n",
    "    emissions = input[2].strip().split()\n",
    "    seq2 = input[4]\n",
    "    transitions = input[6].strip().split()\n",
    "    matrixLines = []\n",
    "    for i in range(9, len(input)):\n",
    "        matrixLines.append([str(x) for x in input[i].rstrip().split() if type(x) == str]) #appends each matrix line to a dictionary \n",
    "    matrix = {}\n",
    "    for i in range(len(transitions)):\n",
    "        for j in range(len(emissions)):\n",
    "            matrix[emissions[j] + transitions[i]] = float(matrixLines[i][j + 1]) #saves each probability to its correpsonding combination\n",
    "    processed = problemTwenty(seq1, seq2, matrix, transitions, emissions)\n",
    "    processed.determineCounts()\n",
    "    print(processed.calcProbability())\n",
    "    outfile = open(\"Jones_Shweta_problem20.out.txt\", \"w\")\n",
    "    outfile.write(str(processed.calcProbability()))\n",
    "    outfile.close()\n",
    "\n",
    "if __name__ == \"__main__\":\n",
    "    main(\"rosalind_ba10b.txt\")"
   ]
  },
  {
   "cell_type": "markdown",
   "metadata": {},
   "source": [
    "# Inspection:\n",
    "\n",
    "#### Inspector 1: \n",
    "- I would combine the two methods since they are only called once \n",
    "- Add a bit more information to your docstrings \n",
    "\n",
    "#### Inspector 2:\n",
    "- Cutdown on some of your comments, they seem unnecessary at times\n",
    "- Nice docstrings, they explain code well\n",
    "- I don't know if its smart to hardcode your dictionaries \n",
    "\n",
    "#### Inspector 3:\n",
    "- You don't have to write the input file if there is not input values in your docstrings\n",
    "- Don't hardcode keys within your dictionary"
   ]
  }
 ],
 "metadata": {
  "kernelspec": {
   "display_name": "Python 3",
   "language": "python",
   "name": "python3"
  },
  "language_info": {
   "codemirror_mode": {
    "name": "ipython",
    "version": 3
   },
   "file_extension": ".py",
   "mimetype": "text/x-python",
   "name": "python",
   "nbconvert_exporter": "python",
   "pygments_lexer": "ipython3",
   "version": "3.7.6"
  }
 },
 "nbformat": 4,
 "nbformat_minor": 4
}
