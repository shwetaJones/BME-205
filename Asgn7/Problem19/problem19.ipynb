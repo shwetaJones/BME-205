{
 "cells": [
  {
   "cell_type": "markdown",
   "metadata": {},
   "source": [
    "# File Name: Jones_Shweta_problem19.ipynb\n",
    "#### Description: \n",
    "The program uses a hidden path π followed by the states States and transition matrix Transition of an HMM (Σ, States, Transition, Emission). It returns the probability of this path, Pr(π). You may assume that initial probabilities are equal.\n",
    "#### Sample CommandLine Entry: \n",
    "python Jones_Shweta_problem19.py\n",
    "python Jones_Shweta_problem19.ipynb\n",
    "##### stdin: \n",
    "a input file with a hidden path π followed by the states States and transition matrix Transition of an HMM (Σ, States, Transition, Emission)\n",
    "###### stdout: \n",
    "returns the probability of this path, Pr(π). You may assume that initial probabilities are equal\n",
    "#### Author: \n",
    "Shweta Jones\n",
    "#### Group: \n",
    "Sahasra Shankar, Kritin Nandish, Maheep Luthra"
   ]
  },
  {
   "cell_type": "code",
   "execution_count": 6,
   "metadata": {},
   "outputs": [
    {
     "name": "stdout",
     "output_type": "stream",
     "text": [
      "1.1252912914192085e-16\n"
     ]
    }
   ],
   "source": [
    "class problemNineteen():\n",
    "    def __init__(self, matrix, line, transitions):\n",
    "        \"\"\"Description: Initializes variables as self to be accessed by other methods \"\"\"\n",
    "        \"\"\"Input: The input is the matrix and line from the input file \"\"\"\n",
    "        \"\"\"Output: There is no output \"\"\"\n",
    "        self.matrix = matrix\n",
    "        self.line = line\n",
    "        self.counts = {}\n",
    "        for i in transitions:\n",
    "            for j in transitions:\n",
    "                self.counts[i + j] = 0\n",
    "\n",
    "    def determineCounts(self):\n",
    "        \"\"\"Description: This method updates the counts of kmers in the path \"\"\"\n",
    "        \"\"\"Input: There is no input for this method, uses self \"\"\"\n",
    "        \"\"\"Output: The sounts is updated, nothing is returned \"\"\"\n",
    "        for i in range(0, len(self.line)-1): #finds all the two-mers\n",
    "            slice = self.line[i:i+2]\n",
    "            for key in self.matrix.keys():\n",
    "                if slice == key: #checks to see if the two-mer is valid/in the keys\n",
    "                    self.counts[key] += 1 #adds to the count of the two-mer\n",
    "\n",
    "    def calcProbability(self):\n",
    "        \"\"\"Description: This method determines the probability \"\"\"\n",
    "        \"\"\"Input: There is no input for this method, uses self \"\"\"\n",
    "        \"\"\"Output: The probability of the given path is returned \"\"\"\n",
    "        total = 1\n",
    "        for key in self.counts:\n",
    "            total *= (self.matrix[key]**self.counts[key]) #determines the probability using matrix and counts\n",
    "        return (total*0.5)\n",
    "\n",
    "def main(inFile):\n",
    "    \"\"\"Description: The main uses the input file to determine sna print the probability of the given path in the input file\"\"\"\n",
    "    \"\"\"Input: The input file contains a hidden path and its corresponding transition matrix \"\"\"\n",
    "    \"\"\"Output: The method returns the probability ot the hidden path \"\"\"\n",
    "    file = open(inFile, \"r\")\n",
    "    lines = file.readlines()\n",
    "    input = [(line.strip()) for line in lines]\n",
    "    line = input[0]\n",
    "    transitions = input[2].strip().split()\n",
    "    matrixLines = []\n",
    "    for i in range(5, len(input)):\n",
    "        matrixLines.append([str(x) for x in input[i].rstrip().split() if type(x) == str])\n",
    "    matrix = {}\n",
    "    for i in range(len(transitions)):\n",
    "        for j in range(len(transitions)):\n",
    "            matrix[transitions[i]+transitions[j]] = float(matrixLines[i][j+1])\n",
    "    processed = problemNineteen(matrix, line, transitions)\n",
    "    processed.determineCounts()\n",
    "    print(processed.calcProbability())\n",
    "    outfile = open(\"Jones_Shweta_problem19.out.txt\", \"w\")\n",
    "    outfile.write(str(processed.calcProbability()))\n",
    "    outfile.close()\n",
    "\n",
    "if __name__ == \"__main__\":\n",
    "    main(\"rosalind_ba10a.txt\")"
   ]
  },
  {
   "cell_type": "markdown",
   "metadata": {},
   "source": [
    "# Inspection:\n",
    "\n",
    "#### Inspector 1: \n",
    "- Write a few more comments to describe your code better\n",
    "- Save to an input file\n",
    "\n",
    "#### Inspector 2:\n",
    "- Maybe rename some of your variables to its easier to understand \n",
    "- Try to save variables from your input file better \n",
    "\n",
    "#### Inspector 3:\n",
    "- Some of your comments seem unnecessary since the code is simple"
   ]
  }
 ],
 "metadata": {
  "kernelspec": {
   "display_name": "Python 3",
   "language": "python",
   "name": "python3"
  },
  "language_info": {
   "codemirror_mode": {
    "name": "ipython",
    "version": 3
   },
   "file_extension": ".py",
   "mimetype": "text/x-python",
   "name": "python",
   "nbconvert_exporter": "python",
   "pygments_lexer": "ipython3",
   "version": "3.7.6"
  }
 },
 "nbformat": 4,
 "nbformat_minor": 4
}
