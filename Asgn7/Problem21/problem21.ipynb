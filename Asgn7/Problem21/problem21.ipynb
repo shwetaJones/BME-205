{
 "cells": [
  {
   "cell_type": "markdown",
   "metadata": {},
   "source": [
    "# File Name: Jones_Shweta_problem21.ipynb\n",
    "#### Description: \n",
    "The program uses a string x, followed by the alphabet Σ from which x was constructed, followed by the states States, transition matrix Transition, and emission matrix Emission of an HMM (Σ, States, Transition, Emission). It returns a path that maximizes the (unconditional) probability Pr(x, π) over all possible paths π.\n",
    "#### Sample CommandLine Entry: \n",
    "python Jones_Shweta_problem21.py\n",
    "python Jones_Shweta_problem21.ipynb\n",
    "##### stdin: \n",
    "a string x, followed by the alphabet Σ from which x was constructed, followed by a hidden path π, followed by the states States and emission matrix Emission of an HMM (Σ, States, Transition, Emission)\n",
    "###### stdout: \n",
    "returns the conditional probability Pr(x|π) that string x will be emitted by the HMM given the hidden path π\n",
    "#### Author: \n",
    "Shweta Jones\n",
    "#### Group: \n",
    "Sahasra Shankar, Kritin Nandish, Maheep Luthra"
   ]
  },
  {
   "cell_type": "code",
   "execution_count": 1,
   "metadata": {},
   "outputs": [
    {
     "name": "stdout",
     "output_type": "stream",
     "text": [
      "ACAAACCCAACACAACAAAACACACCAAAAAAAAAACAAAACCCACCACACCAAACAAAACACAAAAAAAAAAAACACAACAAAACAACAAAACAAACAC\n"
     ]
    }
   ],
   "source": [
    "import numpy as np\n",
    "class problemTwentyOne():\n",
    "    def __init__(self, emString, eMatrix, tMatrix, tDict):\n",
    "        \"\"\"Description: Initializes variables as self to be accessed by other methods \"\"\"\n",
    "        \"\"\"Input: The input included the emission string, transition matrix, emission matrix, and transition dictionary\"\"\"\n",
    "        \"\"\"Output: There is no output \"\"\"\n",
    "        self.emString = emString\n",
    "        self.eMatrix = eMatrix\n",
    "        self.tMatrix = tMatrix\n",
    "        self.tDict = tDict\n",
    "\n",
    "    def determinePath(self):\n",
    "        \"\"\"Description: The method determines the transition path given the values in the input file \"\"\"\n",
    "        \"\"\"Input: There is no input for this method, uses self \"\"\"\n",
    "        \"\"\"Output: The output is the path that maximizes the (unconditional) probability Pr(x, π) over all possible paths π.\"\"\"\n",
    "        transitions = [[0 for i in range(len(self.tMatrix))] for j in range(len(self.emString))] #initializes the transitions matrix with 0's\n",
    "        for i in range(len(self.tMatrix)):\n",
    "            transitions[0][i] = self.eMatrix[i][self.emString[0]] + np.log(1 / len(self.tMatrix)) #updates the transitins matrix with the first 3 probabilities\n",
    "\n",
    "        old = [[0 for i in range(len(self.tMatrix))] for j in range(len(self.emString))] #initializes the old matrix with 0's\n",
    "        for i in range(1, len(self.emString)):\n",
    "            for j in range(len(self.tMatrix)):\n",
    "                state = [self.eMatrix[j][self.emString[i]] + self.tMatrix[k][j] + transitions[i - 1][k] for k in range(len(self.tMatrix))] #determines the probabilties\n",
    "                old[i][j] = np.argmax(state) #places the probability value to the old matrix\n",
    "                transitions[i][j] = state[np.argmax(state)] #app\n",
    "\n",
    "        current = np.argmax(transitions[len(self.emString) - 1]) #sets the current state with the \"last\" state\n",
    "        stateList = [np.argmax(transitions[len(self.emString) - 1])] #begins the list of states, basically the end state\n",
    "        for i in range(len(self.emString) - 1, 0, -1): #goes backward\n",
    "            current = old[i][current]\n",
    "            stateList.insert(0, current) #inserts the state to the beginning of the list of states\n",
    "\n",
    "        path = []\n",
    "        for state in stateList: #iterates through the generates list of states and joins them into a string to be returned to the main method\n",
    "            path.append(''.join([self.tDict[state]]))\n",
    "        return (\"\".join(path))\n",
    "\n",
    "def main(inFile):\n",
    "    \"\"\"Description: The main uses an input file containing a path \"\"\"\n",
    "    \"\"\"Input: The input is a file containing a string x, followed by the alphabet Σ from which x was constructed, followed by a hidden path π, followed by the states States and emission matrix Emission of an HMM (Σ, States, Transition, Emission)\"\"\"\n",
    "    \"\"\"Output: The output is the conditional probability Pr(x|π) that string x will be emitted by the HMM given the hidden path π\"\"\"\n",
    "    file = open(inFile, 'r')\n",
    "    lines = [(line.strip()) for line in file.readlines()]\n",
    "    emString = lines[0] #determines the emission string\n",
    "    emissions = lines[2].strip().split() #determines the emissions\n",
    "    transitions = lines[4].strip().split() #determines the transitions\n",
    "\n",
    "    infile = open(inFile, 'r')\n",
    "    values = infile.read().split()\n",
    "    ind = [i for i in range(len(values)) if '--------' == values[i]] #finds all indices where the dashes occur\n",
    "    tDict = {i: transitions[i] for i in range(len(transitions))} #creates a transition dictionary\n",
    "    tMatrix = {i: {j: np.log(float(values[ind[2] + len(transitions) + 2 + i * (len(transitions) + 1) + j])) for j in range(len(transitions))} for i in range(len(transitions))} #creates the transition matrix\n",
    "    eMatrix = {i: {emissions[j]: np.log(float(values[ind[3] + len(emissions) + 2 + i * (len(emissions) + 1) + j])) for j in range(len(emissions))} for i in range(len(transitions))} #creates the emission matrix\n",
    "\n",
    "    processed = problemTwentyOne(emString, eMatrix, tMatrix, tDict)\n",
    "    finalPath = processed.determinePath()\n",
    "    print(finalPath)\n",
    "    outfile = open(\"Jones_Shweta_problem21.out.txt\", \"w\")\n",
    "    outfile.write(str(finalPath))\n",
    "    outfile.close()\n",
    "\n",
    "if __name__ == '__main__':\n",
    "    main(\"rosalind_ba10c.txt\")"
   ]
  },
  {
   "cell_type": "markdown",
   "metadata": {},
   "source": [
    "# Inspection:\n",
    "\n",
    "#### Inspector 1: \n",
    "- Add a few more comments to explain your code \n",
    "- Make sure to save this into the output file rather than just only printing it out\n",
    "\n",
    "#### Inspector 2:\n",
    "- You have some nicely condensed lines of code\n",
    "\n",
    "#### Inspector 3:\n",
    "- You have good docstrings that explain your methods well\n",
    "- I don't think it was necessary to read in your file twice, try to find a way to open it just once "
   ]
  }
 ],
 "metadata": {
  "kernelspec": {
   "display_name": "Python 3",
   "language": "python",
   "name": "python3"
  },
  "language_info": {
   "codemirror_mode": {
    "name": "ipython",
    "version": 3
   },
   "file_extension": ".py",
   "mimetype": "text/x-python",
   "name": "python",
   "nbconvert_exporter": "python",
   "pygments_lexer": "ipython3",
   "version": "3.7.6"
  }
 },
 "nbformat": 4,
 "nbformat_minor": 4
}
