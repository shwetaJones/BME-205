{
 "cells": [
  {
   "cell_type": "markdown",
   "metadata": {},
   "source": [
    "# File Name: Jones_Shweta_problem24.ipynb\n",
    "#### Description: \n",
    "The program uses a string x, followed by the alphabet Σ from which x was constructed, followed by the states States, transition matrix Transition, and emission matrix Emission of an HMM (Σ, States, Transition, Emission). It returns the probability Pr(πi = k|x) that the HMM was in state k at step i (for each state k and each step i).\n",
    "#### Sample CommandLine Entry: \n",
    "python Jones_Shweta_problem24.py\n",
    "python Jones_Shweta_problem24.ipynb\n",
    "##### stdin: \n",
    "a input file with a string x, followed by the alphabet Σ from which x was constructed, followed by the states States, transition matrix Transition, and emission matrix Emission of an HMM (Σ, States, Transition, Emission)\n",
    "###### stdout: \n",
    "returns the probability Pr(πi = k|x) that the HMM was in state k at step i (for each state k and each step i)\n",
    "#### Author: \n",
    "Shweta Jones\n",
    "#### Group: \n",
    "Sahasra Shankar, Kritin Nandish, Maheep Luthra"
   ]
  },
  {
   "cell_type": "code",
   "execution_count": 2,
   "metadata": {},
   "outputs": [
    {
     "name": "stdout",
     "output_type": "stream",
     "text": [
      "A B\n",
      "0.9435498996742272 0.056450100325772704\n",
      "0.9405189922923687 0.059481007707631345\n",
      "0.9401928986715304 0.05980710132846972\n",
      "0.9261286769358793 0.07387132306412082\n",
      "0.18915213369399128 0.8108478663060088\n",
      "0.3888009943733415 0.6111990056266585\n",
      "0.918035757801777 0.08196424219822306\n",
      "0.4017100753253992 0.5982899246746007\n",
      "0.3655895682093337 0.6344104317906665\n",
      "0.36834386913330863 0.6316561308666913\n"
     ]
    }
   ],
   "source": [
    "import numpy as np\n",
    "class problemTwentyFour:\n",
    "    def __init__(self, x, transition, emission, emissionList, stateList):\n",
    "        \"\"\" Description: This saves vairables as self to be accessible by other methods in the class\"\"\"\n",
    "        \"\"\" Input: The input is the x, transition, emission, emissionList, and stateList\"\"\"\n",
    "        \"\"\" Output: There is no output for this method \"\"\"\n",
    "        self.x = x\n",
    "        self.transition = transition\n",
    "        self.emission = emission\n",
    "        self.emissionList = emissionList\n",
    "        self.stateList = stateList\n",
    "\n",
    "    def softDecode(self):\n",
    "        \"\"\" Description: This method creates all the probabilities \"\"\"\n",
    "        \"\"\" Input: There is no input, rather it uses the variables saved as self \"\"\"\n",
    "        \"\"\" Output: The output is the probabilities\"\"\"\n",
    "        n = len(self.x)\n",
    "        l = self.transition.shape[0]\n",
    "        x2ind = {}\n",
    "        for i in range(len(self.emissionList)): #associates each of the emissions with value\n",
    "            x2ind[self.emissionList[i]] = i\n",
    "        xList = []\n",
    "        for i in range(len(self.x)): #locates each of the emissions within the x string\n",
    "            xList.append(x2ind[self.x[i]])\n",
    "\n",
    "        # Performs forward algorithm to get probabilities\n",
    "        forward = [[0 for i in range(l)] for ii in range(n)]\n",
    "        for k in range(l):\n",
    "            forward[0][k] = self.emission[k, xList[0]] / l\n",
    "        for i in range(1, n):\n",
    "            for j in range(l):\n",
    "                forward[i][j] = sum([forward[i - 1][val] * self.transition[val, j] * self.emission[j, xList[i]] for val in range(l)])\n",
    "\n",
    "        # Performs backward algorithm to get probabilities\n",
    "        backward = [[0 for i in range(l)] for ii in range(n)]\n",
    "        for k in range(l):\n",
    "            backward[n - 1][k] = 1\n",
    "        for i in range(n - 2, -1, -1):\n",
    "            for j in range(l):\n",
    "                backward[i][j] = sum([backward[i + 1][val] * self.transition[j, val] * self.emission[val, xList[i + 1]] for val in range(l)])\n",
    "\n",
    "        probabilities = np.zeros((n, l), dtype=float) #initializes the probabilities matrix with 0's\n",
    "        for i in range(n):\n",
    "            for k in range(l):\n",
    "                probabilities[i, k] = forward[i][k] * backward[i][k] / sum(forward[n - 1]) #fills up the probabilties matrix with values from the backward and forward algorithm\n",
    "        return probabilities\n",
    "\n",
    "def main(inFile):\n",
    "    \"\"\" Description: The main uses the input file to create a set of probabilities for the given file \"\"\"\n",
    "    \"\"\" Input: The input is a string x, alphabet, states, transition matrix, and emission matrix \"\"\"\n",
    "    \"\"\" Output: The output is a set of all the probabilities in the expected format \"\"\"\n",
    "    f = open(inFile, 'r')\n",
    "    data = f.read().strip().split()\n",
    "    x = data[0]\n",
    "    ind = [i for i in range(len(data)) if '--------' == data[i]]\n",
    "    emissionList = data[ind[0] + 1:ind[1]]\n",
    "    stateList = data[ind[1] + 1:ind[2]]\n",
    "    transition = np.zeros((len(stateList), len(stateList)), dtype=float) #initializes the transition matrix\n",
    "    emission = np.zeros((len(stateList), len(emissionList )), dtype=float) #initializes the emission matrix\n",
    "    for i in range(len(stateList)):\n",
    "        transition[i, :] = [float(d) for d in data[ind[2] + len(stateList) + 2 + i * (len(stateList) + 1):ind[2] + len(stateList) + 1 + (i + 1) * (len(stateList) + 1)]] #fills up the transition matrix\n",
    "        emission[i, :] = [float(d) for d in data[ind[3] + len(emissionList) + 2 + i * (len(emissionList ) + 1):ind[3] + len(emissionList ) + 1 + (i + 1) * (len(emissionList ) + 1)]] #fills up the emission matrix\n",
    "    processed = problemTwentyFour(x, transition, emission, emissionList, stateList)\n",
    "    probabilities = processed.softDecode()\n",
    "    print(' '.join(stateList))\n",
    "    for i in range(probabilities.shape[0]):\n",
    "        print(' '.join(list(map(str, probabilities[i, :])))) #formats the probabilities in the appropriate manner\n",
    "\n",
    "if __name__ == '__main__':\n",
    "    main(\"rosalind_ba10j.txt\")"
   ]
  },
  {
   "cell_type": "markdown",
   "metadata": {},
   "source": [
    "# Inspection:\n",
    "\n",
    "#### Inspector 1: \n",
    "- The code needs fewer comments, there's no need to explain every line\n",
    "\n",
    "#### Inspector 2:\n",
    "- Write the code so that it outputs to a specified output file\n",
    "\n",
    "#### Inspector 3:\n",
    "- You don't have to write the input file if there is not input values\n",
    "- Nice docstring, it is helpful to describe all the method function, input and output file"
   ]
  }
 ],
 "metadata": {
  "kernelspec": {
   "display_name": "Python 3",
   "language": "python",
   "name": "python3"
  },
  "language_info": {
   "codemirror_mode": {
    "name": "ipython",
    "version": 3
   },
   "file_extension": ".py",
   "mimetype": "text/x-python",
   "name": "python",
   "nbconvert_exporter": "python",
   "pygments_lexer": "ipython3",
   "version": "3.7.6"
  }
 },
 "nbformat": 4,
 "nbformat_minor": 4
}
