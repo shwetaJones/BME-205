{
 "cells": [
  {
   "cell_type": "markdown",
   "metadata": {},
   "source": [
    "# File Name: Jones_Shweta_problem17.ipynb\n",
    "#### Description: \n",
    "The program uses a input file containing a dna sequence and amino acid sequence to generate the theoretical spectrum of a cyclic peptide. \n",
    "#### Sample CommandLine Entry: \n",
    "python Jones_Shweta_problem17.py\n",
    "python Jones_Shweta_problem17.ipynb\n",
    "##### stdin: \n",
    "txt file containing an amino acid string Peptide.\n",
    "the input file name is rosalind_ba4b.txt\n",
    "###### stdout: \n",
    "the dna sequences that correspond with the amino acid sequence\n",
    "#### Author: \n",
    "Shweta Jones\n",
    "#### Group: \n",
    "Sahasra Shankar, Kritin Nandish, Maheep Luthra"
   ]
  },
  {
   "cell_type": "code",
   "execution_count": 6,
   "metadata": {},
   "outputs": [
    {
     "name": "stdout",
     "output_type": "stream",
     "text": [
      "0 71 87 101 114 115 128 128 128 129 147 147 156 172 186 215 216 229 242 242 243 276 284 287 294 300 303 314 329 344 357 363 370 385 415 415 423 428 431 450 456 457 458 485 491 510 529 532 543 556 571 572 578 579 586 603 605 638 643 657 657 666 679 699 701 707 718 733 744 750 752 772 785 794 794 808 813 846 848 865 872 873 879 880 895 908 919 922 941 960 966 993 994 995 1001 1020 1023 1028 1036 1036 1066 1081 1088 1094 1107 1122 1137 1148 1151 1157 1164 1167 1175 1208 1209 1209 1222 1235 1236 1265 1279 1295 1304 1304 1322 1323 1323 1323 1336 1337 1350 1364 1380 1451\n"
     ]
    }
   ],
   "source": [
    "class problemSeventeen:\n",
    "    \"\"\" The class gives the cyclospectrum of the given peptide \"\"\"\n",
    "    aaWeight = {'G':57, 'A':71, 'S':87, 'P':97, 'V':99, 'T':101, 'C':103, 'I':113, 'L':113, 'N':114, 'D':115, 'K':128, 'Q':128, 'E':129, 'M':131, 'H':137, 'F':147, 'R':156, 'Y':163, 'W':186}\n",
    "    def __init__(self, aaSeq):\n",
    "        \"\"\" Description: Saves the variables as self\"\"\"\n",
    "        \"\"\" Input: The input is a sequence of amino acids \"\"\"\n",
    "        \"\"\" Output: There is no input, however, the amino acid sequence is saved as self \"\"\"\n",
    "        self.aaSeq = aaSeq\n",
    "\n",
    "    def differentSegments(self, doubleAASeq):\n",
    "        \"\"\" Description: The method determines and returns all the segments in the amino acid sequence \"\"\"\n",
    "        \"\"\" Input: The input is the amino acid sequence \"\"\"\n",
    "        \"\"\" Output: The output is a list of all the segments \"\"\"\n",
    "        segmentList = []\n",
    "        for k in range(1, len(self.aaSeq)):\n",
    "            for n in range(len(self.aaSeq)):\n",
    "                segmentList.append(doubleAASeq[n:n + k]) #appends all the possible segments in this peptide sequence\n",
    "        segmentList.append(self.aaSeq) #appends the whole peptide sequence\n",
    "        return(segmentList)\n",
    "\n",
    "    def calcWeight(self, segmentList):\n",
    "        \"\"\" Description: The method calculates the weight of all the segments \"\"\"\n",
    "        \"\"\" Input: The input is the list of segments \"\"\"\n",
    "        \"\"\" Output: The output is a string of all the masses for the segmente\"\"\"\n",
    "        segmentMassList = [0]\n",
    "        for segment in segmentList:\n",
    "            mass = 0\n",
    "            for aa in segment:\n",
    "                mass += self.aaWeight[aa] #calculates the mass of the segments\n",
    "            segmentMassList.append(mass) #appends the mass to the list\n",
    "        sortedSegments = sorted(segmentMassList) #sorted the mass list\n",
    "        return (\" \".join([str(x) for x in sortedSegments])) #strings together items in the list\n",
    "\n",
    "def main(inFile):\n",
    "    \"\"\" Description: This controls and outputs the cyclospectrum of the given peptide sequence \"\"\"\n",
    "    \"\"\" Input: This input file contains the peptide sequence \"\"\"\n",
    "    \"\"\" Output: The output is the cyclospectrum of the peptide\"\"\"\n",
    "    with open(inFile, \"r\") as file:\n",
    "        aaSeq = file.readline().rstrip()\n",
    "    doubleAASeq = aaSeq + aaSeq #adds the segments together to make sure to get all the possible segments\n",
    "    processed = problemSeventeen(aaSeq)\n",
    "    segmentList = processed.differentSegments(doubleAASeq)\n",
    "    print(processed.calcWeight(segmentList))\n",
    "\n",
    "if __name__== \"__main__\":\n",
    "    main(\"rosalind_ba4c.txt\")"
   ]
  },
  {
   "cell_type": "markdown",
   "metadata": {},
   "source": [
    "# Inspection:\n",
    "\n",
    "#### Inspector 1: \n",
    "- remember to finish writing your docstring under problem17 class\n",
    "- very easy to understand even without your line comments\n",
    "\n",
    "#### Inspector 2:\n",
    "- maybe print to an output file for this program too\n",
    "\n",
    "#### Inspector 3:\n",
    "- concisely done"
   ]
  }
 ],
 "metadata": {
  "kernelspec": {
   "display_name": "Python 3",
   "language": "python",
   "name": "python3"
  },
  "language_info": {
   "codemirror_mode": {
    "name": "ipython",
    "version": 3
   },
   "file_extension": ".py",
   "mimetype": "text/x-python",
   "name": "python",
   "nbconvert_exporter": "python",
   "pygments_lexer": "ipython3",
   "version": "3.7.6"
  }
 },
 "nbformat": 4,
 "nbformat_minor": 4
}
