{
 "cells": [
  {
   "cell_type": "markdown",
   "metadata": {},
   "source": [
    "# File Name: Jones_Shweta_problem18.ipynb\n",
    "#### Description: \n",
    "The program tries to find every amino acid string Peptide such that Cyclospectrum(Peptide) using an input file. \n",
    "#### Sample CommandLine Entry: \n",
    "python Jones_Shweta_problem18.py\n",
    "python Jones_Shweta_problem18.ipynb\n",
    "##### stdin: \n",
    "txt file containing a spectrum\n",
    "the input file name is rosalind_ba4e.txt\n",
    "###### stdout: \n",
    "finds every amino acid string Peptide such that Cyclospectrum(Peptide)\n",
    "#### Author: \n",
    "Shweta Jones\n",
    "#### Group: \n",
    "Sahasra Shankar, Maheep Luthra, Kritin Nandish"
   ]
  },
  {
   "cell_type": "code",
   "execution_count": 5,
   "metadata": {},
   "outputs": [
    {
     "name": "stdout",
     "output_type": "stream",
     "text": [
      "97-113-113-71-97-113-113-97-97-128 113-97-97-128-97-113-113-71-97-113 97-97-113-113-97-71-113-113-97-128 97-97-128-97-113-113-71-97-113-113 113-113-97-97-128-97-113-113-71-97 128-97-97-113-113-97-71-113-113-97 71-113-113-97-128-97-97-113-113-97 71-97-113-113-97-97-128-97-113-113 97-113-113-97-97-128-97-113-113-71 113-113-97-128-97-97-113-113-97-71 97-71-113-113-97-128-97-97-113-113 113-71-97-113-113-97-97-128-97-113 128-97-113-113-71-97-113-113-97-97 113-113-71-97-113-113-97-97-128-97 97-128-97-113-113-71-97-113-113-97 97-113-113-97-71-113-113-97-128-97 113-97-71-113-113-97-128-97-97-113 97-128-97-97-113-113-97-71-113-113 113-113-97-71-113-113-97-128-97-97 113-97-128-97-97-113-113-97-71-113\n"
     ]
    }
   ],
   "source": [
    "class problemEighteen:\n",
    "    \"\"\" The class tries to find every amino acid string Peptide such that Cyclospectrum(Peptide) \"\"\"\n",
    "    aaWeight = {'G':57, 'A':71, 'S':87, 'P':97, 'V':99, 'T':101, 'C':103, 'I':113, 'L':113, 'N':114, 'D':115, 'K':128, 'Q':128, 'E':129, 'M':131, 'H':137, 'F':147, 'R':156, 'Y':163, 'W':186}\n",
    "    weights = [57, 71, 87, 97, 99, 101, 103, 113, 114, 115, 128, 129, 131, 137, 147, 156, 163, 186]\n",
    "    def __init__(self, aaSeq):\n",
    "        \"\"\" Description: The method saves values as self \"\"\"\n",
    "        \"\"\" Input: The input is the amino acid seq \"\"\"\n",
    "        \"\"\" Output: There is no output \"\"\"\n",
    "        self.aaSeq = aaSeq\n",
    "\n",
    "    def differentSegments(self, peptide):\n",
    "        \"\"\" Description: The method creates all the possible segments \"\"\"\n",
    "        \"\"\" Input: The input for this method is the peptide sequence \"\"\"\n",
    "        \"\"\" Output: The output is the sorted list of segments \"\"\"\n",
    "        spec = [0]\n",
    "        temp = peptide + peptide\n",
    "        for k in range(1, len(peptide)):\n",
    "            for i in range(len(peptide)):\n",
    "                subpeptide = temp[i:i + k] \n",
    "                spec.append(sum(subpeptide))\n",
    "        spec.append(sum(peptide))\n",
    "        spec.sort()\n",
    "        return spec\n",
    "\n",
    "    def valid(self, peptide):\n",
    "        \"\"\" Description: This method checks to see if chosen peptide is consistent \"\"\"\n",
    "        \"\"\" Input: The input is peptide sequence \"\"\"\n",
    "        \"\"\" Output: The output returns either a true or false \"\"\"\n",
    "        prefixMass = [0]; linearSpectrum = [0]\n",
    "        for i in range(len(peptide)):\n",
    "            temp = prefixMass[i] + peptide[i]\n",
    "            prefixMass.append(temp) #adds the masses into a list\n",
    "        for i in range(len(peptide)):\n",
    "            for j in range(i+1, len(peptide)+1):\n",
    "                linearSpectrum.append(prefixMass[j] - prefixMass[i]) #appends the differentce between the two to determine the final value\n",
    "        linearSpectrum.sort()\n",
    "        if sum(peptide) > self.aaSeq[-1] - self.weights[0]: #checks to see if the mass is in the list of masses\n",
    "            return False\n",
    "        for mass in linearSpectrum:\n",
    "            if mass not in self.aaSeq:\n",
    "                return False\n",
    "        return True #if it is valid, true is returned\n",
    "\n",
    "    def cyclopeptideSequencing(self):\n",
    "        \"\"\" Description: This method does cyclopeptide sequencing \"\"\"\n",
    "        \"\"\" Input: There is no input, however, \"\"\"\n",
    "        \"\"\" Output: The output is every amino acid string Peptide such that Cyclospectrum(Peptide)\"\"\"\n",
    "        result = set() #ensures there are no repitions\n",
    "        peptides = [[]]\n",
    "        while peptides:\n",
    "            newPep = []\n",
    "            for pep in peptides: #determines the mass\n",
    "                for mass in self.weights:\n",
    "                    newPep.append(pep + [mass])\n",
    "            peptides = newPep\n",
    "            for peptide in peptides:\n",
    "                if sum(peptide) == self.aaSeq[-1]: #checks to see if the calculated sum meets the given amino acid spectrum\n",
    "                    if self.differentSegments(peptide) == self.aaSeq:\n",
    "                        result.add(\"-\".join(map(str, peptide))) #formats and adds the valid string to the results list\n",
    "                    peptides = [pep for pep in peptides if pep != peptide]\n",
    "                elif not self.valid(peptide): #checks to see if the peptide is valid\n",
    "                    peptides = [pep for pep in peptides if pep != peptide]\n",
    "        return result #returns the final list of amino acid string peptide masses\n",
    "\n",
    "def main(inFile):\n",
    "    \"\"\" Description: The main reads in an input file and outputs all the possible peptide sequence masses\"\"\"\n",
    "    \"\"\" Input: The input file contains the spectrum\"\"\"\n",
    "    \"\"\" Output: The output is every amino acid string Peptide such that Cyclospectrum(Peptide)\"\"\"\n",
    "    inFile = open(inFile, \"r\")\n",
    "    spectrum = [int(x) for x in inFile.readline().strip().split()]\n",
    "    processed = problemEighteen(spectrum)\n",
    "    sequenced = processed.cyclopeptideSequencing()\n",
    "    print(\" \".join(sequenced))\n",
    "\n",
    "if __name__== \"__main__\":\n",
    "    main(\"rosalind_ba4e.txt\")\n"
   ]
  },
  {
   "cell_type": "markdown",
   "metadata": {},
   "source": [
    "# Inspection:\n",
    "#### Inspector 1: \n",
    "- probably can remove line specifying output under __init__\n",
    "- could possibly combine some lines of code to shorten it more\n",
    "\n",
    "#### Inspector 2:\n",
    " - otherwise quite easy to understand this code\n",
    "\n",
    "#### Inspector 3:\n",
    "- comments explain code well and once again the code is concisely written"
   ]
  }
 ],
 "metadata": {
  "kernelspec": {
   "display_name": "Python 3",
   "language": "python",
   "name": "python3"
  },
  "language_info": {
   "codemirror_mode": {
    "name": "ipython",
    "version": 3
   },
   "file_extension": ".py",
   "mimetype": "text/x-python",
   "name": "python",
   "nbconvert_exporter": "python",
   "pygments_lexer": "ipython3",
   "version": "3.7.6"
  }
 },
 "nbformat": 4,
 "nbformat_minor": 4
}
